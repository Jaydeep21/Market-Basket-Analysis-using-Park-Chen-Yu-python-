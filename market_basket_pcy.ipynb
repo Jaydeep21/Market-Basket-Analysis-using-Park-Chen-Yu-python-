# Importing the libraries
import numpy as np
import matplotlib.pyplot as plt
import pandas as pd


# Importing the dataset
root_path =  'https://docs.google.com/spreadsheets/d/1xw2q-ovqu_uZ49tdVBEwqyOI1nfIgrF7UY7VB_eEC4k/export?format=csv&gid=1765165915'

dataset = pd.read_csv(root_path)
dataset

len(dataset)

#removing NaN values 
for k in range(1,21):
  dataset[str(k)].fillna('', inplace = True) 

dataset

#getting names of all the items from the dataset
column_names = []

for i in range(len(dataset)):#rows
  for k in range(1,20):#columns
    flag = 0
    for j in range(len(column_names)):
      if dataset[str(k)][i] == column_names[j]:
        flag = 1
        break
    if flag == 0:
      column_names.append(dataset[str(k)][i])
print(column_names)    


print(len(column_names))

#creating new dataset where each item will have seperate column and accordingly boolean value will depict its presence and absence 
root_path1 =  'https://docs.google.com/spreadsheets/d/1Okderq5Sl6BwR_lnHjetUzRjW0bXANkfuUwXgEMUmys/export?format=csv&gid=1753614568'

dataset1 = pd.read_csv(root_path1)
dataset1

#keeping zero as default value for each item
for i in range(len(column_names)):
  dataset1[column_names[i]]=0
  
dataset1

#modifying new dataset as per the values in old database 
for i in range(len(dataset)):
  for k in range(1,21):
    if dataset[str(k)][i]!= '' and column_names.index(dataset[str(k)][i])>=0 :
      dataset1[dataset[str(k)][i]][i] = 1 
      
del(column_names[22])#because its blank

#enable view for 7500 rows
pd.set_option('display.max_rows', 7500)
dataset1

#getting total count of each element in the order of column name in new dataset
# step one of PCY algorithm ... count of each candidate set
count_data = []
for i in range(len(column_names)):
  print(dataset1[column_names[i]].sum())
  count_data.append(dataset1[column_names[i]].sum())
  
#step 2 of pcy algo .. eleminating products below threshold value ... in this case it is 375
shortlisted = []
for i in range(len(column_names)):
  if dataset1[column_names[i]].sum()>=375:
    shortlisted.append(column_names[i])
    
shortlisted

#preparing for step 3 by making pairs of selected items 
pairs = []
j = -1
for i in range(len(column_names)):
  j += 1
  for k in range(i,len(column_names)):
    current_pair = []
    
    if column_names[i] !=column_names[k]:  
      current_pair = [column_names[i] ,column_names[k]]
      pairs.append(current_pair)
      
pairs

# step 3 counting frequency of each pair
repeatition = []
for i in range(len(pairs)):
  count = 0
  for j in range(len(dataset1)):
    if dataset1[pairs[i][0]][j] == 1 and dataset1[pairs[i][1]][j] == 1:
      count += 1
  repeatition.append(count)
  
 
 for i in range(len(pairs)):
  print(pairs[i],repeatition[i])
  
 len(pairs)
 
 #step 4 setting threshold of 30 for each itemset
threshold = 30
frequent_items = []
for i in range(len(pairs)):
  if repeatition[i]>=30:
    frequent_items.append(pairs[i])
    
frequent_items
# len(frequent_items)

#step 5 assigning  buckets to itemsets using hash function (x*y)%10
buckets = [[],[],[],[],[],[],[],[],[],[]]
for i in range(len(frequent_items)):
  x = column_names.index(frequent_items[i][0])+1
  y = column_names.index(frequent_items[i][1])+1
  hash_val  = (x*y) % 10
  buckets[hash_val].append(frequent_items[i])
  #print(hash_val)
buckets

#printing one of the bucket
buckets[0]

#give input and this returns frequent itemsets
item = input()
for i in range(len(frequent_items)):
  if frequent_items[i][0] == item:
    print(frequent_items[i][1])
  if frequent_items[i][1] == item:
    print(frequent_items[i][0])
    
# for visualizations
import matplotlib.pyplot as plt

import seaborn as sns
plt.style.use('fivethirtyeight')


text = ' '
for i in range(len(count_data)):
  for j in range(count_data[i]):
    text = text + ' ' + column_names[i] 
# print(text)
from wordcloud import WordCloud

plt.rcParams['figure.figsize'] = (15, 10)
# Create and generate a word cloud image:
wordcloud = WordCloud(collocations=False, background_color = 'white', width = 1200,  height = 1200, max_words = 119).generate(text)
# Display the generated image:
plt.imshow(wordcloud, interpolation='bilinear')
plt.axis("off")
plt.title('Most Popular Items',fontsize = 20)
plt.show()


corpus = []
for i in range(len(count_data)):
  for j in range(count_data[i]):
    corpus.append(column_names[i])
    
df = pd.DataFrame({'corpus': corpus})

plt.rcParams['figure.figsize'] = (30, 7)
color = plt.cm.copper(np.linspace(0, 1, 119))
df['corpus'].value_counts().plot.bar(color = color)
plt.title('frequency of most popular items', fontsize = 30)
plt.xticks(rotation = 90 )
plt.grid()
plt.show()
